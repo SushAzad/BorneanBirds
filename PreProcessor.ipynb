{
 "cells": [
  {
   "cell_type": "code",
   "execution_count": 2,
   "metadata": {},
   "outputs": [],
   "source": [
    "from pydub import AudioSegment\n",
    "import pandas as pd"
   ]
  },
  {
   "cell_type": "code",
   "execution_count": 4,
   "metadata": {},
   "outputs": [
    {
     "data": {
      "text/html": [
       "<div>\n",
       "<style scoped>\n",
       "    .dataframe tbody tr th:only-of-type {\n",
       "        vertical-align: middle;\n",
       "    }\n",
       "\n",
       "    .dataframe tbody tr th {\n",
       "        vertical-align: top;\n",
       "    }\n",
       "\n",
       "    .dataframe thead th {\n",
       "        text-align: right;\n",
       "    }\n",
       "</style>\n",
       "<table border=\"1\" class=\"dataframe\">\n",
       "  <thead>\n",
       "    <tr style=\"text-align: right;\">\n",
       "      <th></th>\n",
       "      <th>Start time</th>\n",
       "      <th>End time</th>\n",
       "    </tr>\n",
       "  </thead>\n",
       "  <tbody>\n",
       "    <tr>\n",
       "      <th>count</th>\n",
       "      <td>37.000000</td>\n",
       "      <td>37.000000</td>\n",
       "    </tr>\n",
       "    <tr>\n",
       "      <th>mean</th>\n",
       "      <td>176.611081</td>\n",
       "      <td>181.121351</td>\n",
       "    </tr>\n",
       "    <tr>\n",
       "      <th>std</th>\n",
       "      <td>119.438581</td>\n",
       "      <td>124.730858</td>\n",
       "    </tr>\n",
       "    <tr>\n",
       "      <th>min</th>\n",
       "      <td>8.050000</td>\n",
       "      <td>10.240000</td>\n",
       "    </tr>\n",
       "    <tr>\n",
       "      <th>25%</th>\n",
       "      <td>56.340000</td>\n",
       "      <td>58.080000</td>\n",
       "    </tr>\n",
       "    <tr>\n",
       "      <th>50%</th>\n",
       "      <td>187.500000</td>\n",
       "      <td>189.850000</td>\n",
       "    </tr>\n",
       "    <tr>\n",
       "      <th>75%</th>\n",
       "      <td>277.500000</td>\n",
       "      <td>280.000000</td>\n",
       "    </tr>\n",
       "    <tr>\n",
       "      <th>max</th>\n",
       "      <td>383.000000</td>\n",
       "      <td>437.500000</td>\n",
       "    </tr>\n",
       "  </tbody>\n",
       "</table>\n",
       "</div>"
      ],
      "text/plain": [
       "       Start time    End time\n",
       "count   37.000000   37.000000\n",
       "mean   176.611081  181.121351\n",
       "std    119.438581  124.730858\n",
       "min      8.050000   10.240000\n",
       "25%     56.340000   58.080000\n",
       "50%    187.500000  189.850000\n",
       "75%    277.500000  280.000000\n",
       "max    383.000000  437.500000"
      ]
     },
     "execution_count": 4,
     "metadata": {},
     "output_type": "execute_result"
    }
   ],
   "source": [
    "df = pd.read_csv(\"Bird_times.csv\")\n",
    "df.describe()"
   ]
  },
  {
   "cell_type": "markdown",
   "metadata": {},
   "source": [
    "## Creating Bird sound file based on time stamps"
   ]
  },
  {
   "cell_type": "code",
   "execution_count": 6,
   "metadata": {},
   "outputs": [
    {
     "data": {
      "text/plain": [
       "<_io.BufferedRandom name='birdAutoGen.wav'>"
      ]
     },
     "execution_count": 6,
     "metadata": {},
     "output_type": "execute_result"
    }
   ],
   "source": [
    "AllBird = AudioSegment.empty()\n",
    "newAudio = AudioSegment.from_wav(\"GGA_BChosen.wav\")\n",
    "for index, row in df.iterrows():\n",
    "    t1 = row[\"Start time\"] * 1000 #Works in milliseconds\n",
    "    t2 = row[\"End time\"] * 1000\n",
    "    AllBird += newAudio[t1:t2]\n",
    "\n",
    "AllBird.export('birdAutoGen.wav', format=\"wav\") "
   ]
  },
  {
   "cell_type": "markdown",
   "metadata": {},
   "source": [
    "## Creating Noise sound file based on exclusinf given timestamps"
   ]
  },
  {
   "cell_type": "code",
   "execution_count": 12,
   "metadata": {},
   "outputs": [
    {
     "name": "stdout",
     "output_type": "stream",
     "text": [
      "Adding one more 0.0 &  7.050000000000001\n",
      "Adding one more 11.24 &  10.45\n",
      "Adding one more 12.6 &  18.6\n",
      "Adding one more 21.02 &  19.7\n",
      "Adding one more 22.37 &  29.0\n",
      "Adding one more 31.4 &  39.25\n",
      "Adding one more 34.23 &  42.42\n",
      "Adding one more 45.06 &  43.8\n",
      "Adding one more 47.85 &  54.46\n",
      "Adding one more 56.98 &  55.34\n",
      "Adding one more 59.08 &  66.51\n",
      "Adding one more 71.47 &  80.46\n",
      "Adding one more 85.0 &  95.07\n",
      "Adding one more 99.0 &  107.1\n",
      "Adding one more 111.75 &  120.8\n",
      "Adding one more 125.51 &  134.3\n",
      "Adding one more 141.0 &  148.64\n",
      "Adding one more 152.73 &  161.75\n",
      "Adding one more 165.9 &  186.5\n",
      "Adding one more 190.85 &  199.81\n",
      "Adding one more 202.3 &  204.35\n",
      "Adding one more 208.44 &  215.45\n",
      "Adding one more 219.0 &  223.0\n",
      "Adding one more 226.41 &  225.4\n",
      "Adding one more 228.0 &  237.35\n",
      "Adding one more 239.9 &  249.6\n",
      "Adding one more 252.95 &  262.83\n",
      "Adding one more 267.2 &  276.5\n",
      "Adding one more 281.0 &  287.1\n",
      "Adding one more 289.8 &  290.95\n",
      "Adding one more 294.05 &  292.69\n",
      "Adding one more 295.55 &  294.2\n",
      "Adding one more 324.0 &  329.0\n",
      "Adding one more 352.6 &  353.0\n",
      "Adding one more 375.0 &  375.73\n",
      "Adding one more 378.8 &  377.45\n",
      "Adding one more 379.95 &  382.0\n"
     ]
    },
    {
     "data": {
      "text/plain": [
       "<_io.BufferedRandom name='NoiseAutoGen.wav'>"
      ]
     },
     "execution_count": 12,
     "metadata": {},
     "output_type": "execute_result"
    }
   ],
   "source": [
    "AllNoise = AudioSegment.empty()\n",
    "newAudio = AudioSegment.from_wav(\"GGA_BChosen.wav\")\n",
    "start = 0\n",
    "for index, row in df.iterrows():\n",
    "    t1 = start #Works in milliseconds\n",
    "    t2 = (row[\"Start time\"] -1)  * 1000\n",
    "    start = (row [\"End time\"] +1) * 1000\n",
    "    AllNoise += newAudio[t1:t2]\n",
    "    print(\"Adding one more\", t1/1000, \"& \", t2/1000)\n",
    "AllNoise.export('NoiseAutoGen.wav', format=\"wav\") "
   ]
  },
  {
   "cell_type": "code",
   "execution_count": null,
   "metadata": {},
   "outputs": [],
   "source": []
  }
 ],
 "metadata": {
  "kernelspec": {
   "display_name": "Python 3",
   "language": "python",
   "name": "python3"
  },
  "language_info": {
   "codemirror_mode": {
    "name": "ipython",
    "version": 3
   },
   "file_extension": ".py",
   "mimetype": "text/x-python",
   "name": "python",
   "nbconvert_exporter": "python",
   "pygments_lexer": "ipython3",
   "version": "3.7.4"
  }
 },
 "nbformat": 4,
 "nbformat_minor": 2
}
