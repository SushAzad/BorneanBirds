{
 "cells": [
  {
   "cell_type": "code",
   "execution_count": 2,
   "metadata": {},
   "outputs": [],
   "source": [
    "import numpy as np \n",
    "import scipy\n",
    "import scipy.signal\n",
    "import scipy.io.wavfile\n",
    "import matplotlib.pyplot as plt"
   ]
  },
  {
   "cell_type": "code",
   "execution_count": 3,
   "metadata": {},
   "outputs": [],
   "source": [
    "def gaussian(data, mean, cov, reshape=False):\n",
    "    if reshape:\n",
    "        data=np.reshape(data, (len(data),1))\n",
    "    zero_mean = data - mean\n",
    "    cov_inv = np.linalg.inv(cov)\n",
    "    temp =  -0.5 *(zero_mean.T.dot(cov_inv).dot(zero_mean))\n",
    "    determinant = np.linalg.det(cov)\n",
    "    numerator = np.exp(temp)\n",
    "    denomenator = np.sqrt(2*np.pi*determinant)\n",
    "    gaussian_prob = numerator/denomenator \n",
    "    return gaussian_prob"
   ]
  },
  {
   "cell_type": "code",
   "execution_count": 4,
   "metadata": {},
   "outputs": [],
   "source": [
    "def PCA(x, k):\n",
    "   # Obtain column wise zero-mean\n",
    "    '''If the input mean is not zero, bad things happen, we know this from lecture! \n",
    "    Therefore, we need to make sure that our data is zero-mean, \n",
    "    so instead of using 𝐗 we use 𝐗_mean'''\n",
    "    means = np.mean(x, axis=1)\n",
    "    means = np.reshape(means, (means.shape[0], 1))\n",
    "    x_mean = x - means\n",
    "   \n",
    "    # Get the covariance of our zero-mean matrix\n",
    "    cov_mat = np.cov(x_mean)\n",
    "    '''As we were told by the TA,  Doing an eigen decomposition on the covariance matrix \n",
    "    (instead of doing it directly on the data matrix 𝐗, by SVD) is a easier starting point''' \n",
    "\n",
    "    eigenVal,eigenVec = scipy.sparse.linalg.eigsh(cov_mat, k = k)\n",
    "#     print(\"Eigen Vectors shape : \" + str(eigenVec.shape))\n",
    "    \n",
    "    #Calculate feature matrix\n",
    "    w = np.linalg.inv(np.diag(np.sqrt(eigenVal))).dot(eigenVec.T)\n",
    "    \n",
    "    # Calculate weight matrix\n",
    "    z = np.dot(w, x_mean)\n",
    "    \n",
    "    return w, z,means"
   ]
  },
  {
   "cell_type": "code",
   "execution_count": 5,
   "metadata": {},
   "outputs": [],
   "source": [
    "def find_mean_and_cov(x):\n",
    "# returns mean and covariance for given sample class\n",
    "    mean = np.mean(x, axis=1)\n",
    "    mean = np.reshape(mean, (len(mean),1))\n",
    "    zero_mean = x - mean\n",
    "    cov = zero_mean.dot(zero_mean.T) / (zero_mean.shape[1]-1)\n",
    "    return mean, cov"
   ]
  },
  {
   "cell_type": "code",
   "execution_count": 6,
   "metadata": {},
   "outputs": [],
   "source": [
    "def chunkify(sample):\n",
    "    #10260 is the number of rows thats freq x 20. \n",
    "    #I'm just making a zeros matrix to be able to hstack/vstack conveniniently, and discard the first column before returning.\n",
    "\n",
    "    newMat = np.zeros((51300,1))\n",
    "#     rem = 1300 - sample.shape[1]\n",
    "#     zeros = np.zeros((rem, 513))\n",
    "    chunked = []\n",
    "#     sample = sample.T\n",
    "#     sample = np.vstack((sample, zeros))\n",
    "#     sample = sample.T\n",
    "    for colNum in range(0, np.shape(sample)[1], 100):\n",
    "        matrix = sample[:,colNum:colNum+100]\n",
    "        matrix = matrix.flatten('F')\n",
    "        matrix = np.reshape(matrix, (matrix.shape[0], 1))\n",
    "        #print(\"Chunkify matrix shape\", matrix.shape)\n",
    "        newMat = np.hstack((newMat, matrix))\n",
    "    return newMat[:,1:]"
   ]
  },
  {
   "cell_type": "code",
   "execution_count": 40,
   "metadata": {},
   "outputs": [
    {
     "name": "stdout",
     "output_type": "stream",
     "text": [
      "22050\n",
      "(3834495,)\n",
      "22050\n",
      "(1306264,)\n",
      "(3834495, 1)\n",
      "(1306264, 1)\n",
      "Third!!!!\n",
      "44100\n",
      "(7893900,)\n",
      "Total birds: (13034659,)\n",
      "(513, 50918)\n"
     ]
    }
   ],
   "source": [
    "path = \"/Users/sushazad/Documents/GitHub/ISSE_cleaned/\"\n",
    "filename = \"birdAutoGen22050.wav\"\n",
    "sample, bsound = scipy.io.wavfile.read(path+filename)\n",
    "print(sample)\n",
    "print(bsound.shape)\n",
    "filename = \"ZuzanaBirdzClean.wav\"\n",
    "sample2, bsound2 = scipy.io.wavfile.read(path+filename)\n",
    "print(sample2)\n",
    "print(bsound2.shape)\n",
    "bsound2 = np.reshape(bsound2, (bsound2.shape[0],1))\n",
    "bsound = np.reshape(bsound, (bsound.shape[0],1))\n",
    "print(bsound.shape)\n",
    "print(bsound2.shape)\n",
    "print(\"Third!!!!\")\n",
    "filename = \"GGA_DBirdsOnly.wav\"\n",
    "sample3, bsound3 = scipy.io.wavfile.read(path+filename)\n",
    "print(sample3)\n",
    "print(bsound3.shape)\n",
    "bsound3 = np.reshape(bsound3, (bsound3.shape[0],1))\n",
    "totBirds = np.vstack((bsound, bsound2, bsound3))[:,0]\n",
    "print(\"Total birds:\",totBirds.shape)\n",
    "bf, bt, bZxx = scipy.signal.stft(totBirds, fs=sample,window='hann', noverlap=768, nperseg=1024)\n",
    "bmag = np.abs(bZxx)\n",
    "blog = np.log(bmag)\n",
    "print(blog.shape)\n",
    "blog=blog[:,:50900]\n",
    "birdsAloneLog = blog"
   ]
  },
  {
   "cell_type": "code",
   "execution_count": 41,
   "metadata": {},
   "outputs": [
    {
     "name": "stdout",
     "output_type": "stream",
     "text": [
      "22050\n",
      "(4579785,)\n",
      "22050\n",
      "(1389172,)\n",
      "(4579785, 1)\n",
      "(1389172, 1)\n",
      "Total noise : (5968957,)\n",
      "Total noise cropped : (5968957,)\n",
      "(513, 23318)\n"
     ]
    }
   ],
   "source": [
    "path = \"/Users/sushazad/Documents/GitHub/ISSE_cleaned/\"\n",
    "filename = \"NoiseAutoGen22050.wav\"\n",
    "sample, nsound = scipy.io.wavfile.read(path+filename)\n",
    "print(sample)\n",
    "print(nsound.shape)\n",
    "filename = \"ZuzanaNoiseClean.wav\"\n",
    "sample2, nsound2 = scipy.io.wavfile.read(path+filename)\n",
    "print(sample2)\n",
    "print(nsound2.shape)\n",
    "nsound2 = np.reshape(nsound2, (nsound2.shape[0],1))\n",
    "nsound = np.reshape(nsound, (nsound.shape[0],1))\n",
    "print(nsound.shape)\n",
    "print(nsound2.shape)\n",
    "totNoise = np.vstack((nsound, nsound2))[:,0]\n",
    "print(\"Total noise :\",totNoise.shape)\n",
    "totNoise = totNoise[:totBirds.shape[0]]\n",
    "print(\"Total noise cropped :\",totNoise.shape)\n",
    "nf, nt, nZxx = scipy.signal.stft(totNoise, fs=sample,window='hann', noverlap=768, nperseg=1024)\n",
    "nmag = np.abs(nZxx)\n",
    "nlog = np.log(nmag)\n",
    "print(nlog.shape)\n",
    "nlog=nlog[:,:20000]\n",
    "noiseAloneLog = nlog"
   ]
  },
  {
   "cell_type": "code",
   "execution_count": 42,
   "metadata": {},
   "outputs": [
    {
     "name": "stdout",
     "output_type": "stream",
     "text": [
      "44100\n",
      "(10844631,)\n",
      "(513, 42363)\n"
     ]
    }
   ],
   "source": [
    "path = \"/Users/sushazad/Documents/GitHub/ISSE_cleaned/\"\n",
    "filename = \"GGA_Alogging.wav\"\n",
    "sample, nsound = scipy.io.wavfile.read(path+filename)\n",
    "print(sample)\n",
    "print(nsound.shape)\n",
    "lf, lt, lZxx = scipy.signal.stft(nsound, fs=sample,window='hann', noverlap=768, nperseg=1024)\n",
    "lmag = np.abs(lZxx)\n",
    "llog = np.log(lmag)\n",
    "print(llog.shape)\n",
    "llog = llog[:,:42300]\n",
    "loggingAloneLog = llog"
   ]
  },
  {
   "cell_type": "code",
   "execution_count": 57,
   "metadata": {},
   "outputs": [
    {
     "name": "stdout",
     "output_type": "stream",
     "text": [
      "44100\n",
      "(10958850,)\n",
      "44100\n",
      "(14376600,)\n",
      "(513, 98968)\n"
     ]
    }
   ],
   "source": [
    "path = \"/Users/sushazad/Documents/GitHub/ISSE_cleaned/\"\n",
    "filename = \"GGA_ABirdsLogging.wav\"\n",
    "sample, blsound = scipy.io.wavfile.read(path+filename)\n",
    "print(sample)\n",
    "print(blsound.shape)\n",
    "filename = \"../ISSE_Cleaned/GGA_A20160817_060000.wav\"\n",
    "sample2, blsound2 = scipy.io.wavfile.read(path+filename)\n",
    "print(sample2)\n",
    "print(blsound2.shape)\n",
    "blsound = np.reshape(blsound, (blsound.shape[0],1))\n",
    "blsound2 = np.reshape(blsound2, (blsound2.shape[0],1))\n",
    "totblsound = np.vstack((blsound, blsound2))[:,0]\n",
    "blf, blt, blZxx = scipy.signal.stft(totblsound, fs=sample2,window='hann', noverlap=768, nperseg=1024)\n",
    "blmag = np.abs(blZxx)\n",
    "bllog = np.log(blmag)\n",
    "print(bllog.shape)\n",
    "bllog = bllog[:,:98900]\n",
    "birdLoggingLog = bllog"
   ]
  },
  {
   "cell_type": "code",
   "execution_count": 58,
   "metadata": {},
   "outputs": [
    {
     "name": "stdout",
     "output_type": "stream",
     "text": [
      "Shape of chunked birds:  (51300, 509)\n",
      "Shape of chunked noise:  (51300, 200)\n",
      "Shape of chunked logging:  (51300, 423)\n",
      "Shape of chunked birds:  (51300, 989)\n"
     ]
    }
   ],
   "source": [
    "chunked = chunkify(blog)\n",
    "np.random.shuffle(chunked.T)\n",
    "print(\"Shape of chunked birds: \", np.shape(chunked))\n",
    "nchunked = chunkify(nlog)\n",
    "np.random.shuffle(chunked.T)\n",
    "print(\"Shape of chunked noise: \", np.shape(nchunked))\n",
    "lchunked = chunkify(llog)\n",
    "np.random.shuffle(lchunked.T)\n",
    "print(\"Shape of chunked logging: \", np.shape(lchunked))\n",
    "blchunked = chunkify(bllog)\n",
    "np.random.shuffle(blchunked.T)\n",
    "print(\"Shape of chunked birds: \", np.shape(blchunked))"
   ]
  },
  {
   "cell_type": "code",
   "execution_count": 45,
   "metadata": {},
   "outputs": [],
   "source": [
    "bird_thresh=int(np.shape(chunked)[1]*0.8)\n",
    "noise_thresh=int(np.shape(nchunked)[1]*0.8)\n",
    "logging_thresh=int(np.shape(lchunked)[1]*0.8)\n",
    "bird_logging_thresh=int(np.shape(blchunked)[1]*0.8)"
   ]
  },
  {
   "cell_type": "code",
   "execution_count": 46,
   "metadata": {},
   "outputs": [
    {
     "name": "stdout",
     "output_type": "stream",
     "text": [
      "(51300, 407)\n",
      "(51300, 102)\n",
      "(51300, 338)\n",
      "(51300, 85)\n"
     ]
    }
   ],
   "source": [
    "btrain = chunked[:,:bird_thresh]\n",
    "print(btrain.shape)\n",
    "btest = chunked[:,bird_thresh:]\n",
    "print(btest.shape)\n",
    "ntrain = nchunked[:,:noise_thresh]\n",
    "ntest = nchunked[:,noise_thresh:]\n",
    "ltrain = lchunked[:,:logging_thresh]\n",
    "print(ltrain.shape)\n",
    "ltest = lchunked[:,logging_thresh:]\n",
    "print(ltest.shape)\n",
    "bltrain = blchunked[:,:bird_logging_thresh]\n",
    "bltest = blchunked[:,bird_logging_thresh:]"
   ]
  },
  {
   "cell_type": "code",
   "execution_count": 47,
   "metadata": {},
   "outputs": [
    {
     "name": "stdout",
     "output_type": "stream",
     "text": [
      "All train shape: (51300, 1247)\n"
     ]
    }
   ],
   "source": [
    "all_train = np.hstack((btrain, ntrain, ltrain, bltrain))\n",
    "print(\"All train shape:\", all_train.shape)"
   ]
  },
  {
   "cell_type": "code",
   "execution_count": 48,
   "metadata": {},
   "outputs": [
    {
     "data": {
      "text/plain": [
       "(15, 1247)"
      ]
     },
     "execution_count": 48,
     "metadata": {},
     "output_type": "execute_result"
    }
   ],
   "source": [
    "from sklearn.decomposition import PCA\n",
    "pca = PCA(n_components=15)\n",
    "means = np.mean(all_train, axis=1)\n",
    "means = np.reshape(means, (means.shape[0], 1))\n",
    "pca.fit(all_train.T)  \n",
    "z_pca = pca.fit_transform(all_train.T).T\n",
    "z_pca.shape"
   ]
  },
  {
   "cell_type": "code",
   "execution_count": 49,
   "metadata": {},
   "outputs": [
    {
     "name": "stdout",
     "output_type": "stream",
     "text": [
      "Shape of noise_z (15, 160)\n",
      "Shape of bird_z (15, 407)\n",
      "Shape of logging_z (15, 338)\n",
      "Shape of bird_logging_z (15, 342)\n"
     ]
    }
   ],
   "source": [
    "bird_z = z_pca[:, :bird_thresh]\n",
    "noise_z = z_pca[:, bird_thresh:bird_thresh+noise_thresh]\n",
    "logging_z = z_pca[:, bird_thresh+noise_thresh:bird_thresh+noise_thresh+logging_thresh]\n",
    "bird_logging_z = z_pca[:, bird_thresh+noise_thresh+logging_thresh:]\n",
    "print(\"Shape of noise_z\", noise_z.shape)\n",
    "print(\"Shape of bird_z\", bird_z.shape)\n",
    "print(\"Shape of logging_z\", logging_z.shape)\n",
    "print(\"Shape of bird_logging_z\", bird_logging_z.shape)\n",
    "noise_mean, noise_cov = find_mean_and_cov(noise_z)\n",
    "bird_mean, bird_cov = find_mean_and_cov(bird_z)\n",
    "logging_mean, logging_cov = find_mean_and_cov(logging_z)\n",
    "bird_logging_mean, bird_logging_cov = find_mean_and_cov(bird_logging_z)\n",
    "    "
   ]
  },
  {
   "cell_type": "code",
   "execution_count": 50,
   "metadata": {},
   "outputs": [
    {
     "name": "stdout",
     "output_type": "stream",
     "text": [
      "All test shape:  (51300, 313)\n"
     ]
    }
   ],
   "source": [
    "btest_thresh = btest.shape[1]\n",
    "ntest_thresh = ntest.shape[1]\n",
    "ltest_thresh = ltest.shape[1]\n",
    "bltest_thresh = bltest.shape[1]\n",
    "\n",
    "all_test = np.hstack((btest,ntest,ltest,bltest))\n",
    "print(\"All test shape: \",all_test.shape)"
   ]
  },
  {
   "cell_type": "code",
   "execution_count": 51,
   "metadata": {},
   "outputs": [],
   "source": [
    "true_labels = []\n",
    "for i in range(btest_thresh):\n",
    "    true_labels.append(0)\n",
    "for i in range(ntest_thresh):\n",
    "    true_labels.append(1)\n",
    "for i in range(ltest_thresh):\n",
    "    true_labels.append(2)\n",
    "for i in range(bltest_thresh):\n",
    "    true_labels.append(3)\n",
    "confusion_matrix = np.zeros((4,4))"
   ]
  },
  {
   "cell_type": "code",
   "execution_count": 52,
   "metadata": {},
   "outputs": [],
   "source": [
    "z_test = pca.components_.dot(all_test-means)"
   ]
  },
  {
   "cell_type": "code",
   "execution_count": 53,
   "metadata": {},
   "outputs": [],
   "source": [
    "def testing(z_test):\n",
    "    def bestMatch(sample):\n",
    "        #Returns 0 (bird) or 1(noise) or 2(logging alone) or 3(birds and logging both)\n",
    "        sample = np.reshape(sample, (sample.shape[0],1))\n",
    "        birdz = gaussian(sample,bird_mean, bird_cov)\n",
    "        noyes = gaussian(sample,noise_mean, noise_cov)\n",
    "        loggingz = gaussian(sample,logging_mean, logging_cov)\n",
    "        bird_loggingz = gaussian(sample,bird_logging_mean, bird_logging_cov)\n",
    "        gaussians = []\n",
    "        gaussians.append(birdz)\n",
    "        gaussians.append(noyes)\n",
    "        gaussians.append(loggingz)\n",
    "        gaussians.append(bird_loggingz)\n",
    "        best_match = gaussians.index(max(gaussians))\n",
    "        return best_match\n",
    "    n=z_test.shape[1]\n",
    "    True_noise = 0\n",
    "    False_bird = 0\n",
    "    True_bird = 0\n",
    "    False_noise = 0\n",
    "    for i in range(n):\n",
    "        best_match = bestMatch(z_test[:,i])\n",
    "        true_match = true_labels[i]\n",
    "        confusion_matrix[true_match][best_match]+=1\n",
    "    return confusion_matrix"
   ]
  },
  {
   "cell_type": "code",
   "execution_count": 54,
   "metadata": {},
   "outputs": [
    {
     "name": "stdout",
     "output_type": "stream",
     "text": [
      "313\n",
      "(15, 313)\n"
     ]
    }
   ],
   "source": [
    "print(len(true_labels))\n",
    "print(z_test.shape)"
   ]
  },
  {
   "cell_type": "code",
   "execution_count": 55,
   "metadata": {},
   "outputs": [
    {
     "name": "stdout",
     "output_type": "stream",
     "text": [
      "      0     1     2     3\n",
      "0  92.0  10.0   0.0   0.0\n",
      "1  21.0  19.0   0.0   0.0\n",
      "2   0.0   0.0  85.0   0.0\n",
      "3   0.0   0.0   0.0  86.0\n"
     ]
    }
   ],
   "source": [
    "conf_mat = testing(z_test)\n",
    "import pandas as pd\n",
    "print(pd.DataFrame(conf_mat))"
   ]
  },
  {
   "cell_type": "code",
   "execution_count": null,
   "metadata": {},
   "outputs": [],
   "source": []
  },
  {
   "cell_type": "code",
   "execution_count": null,
   "metadata": {},
   "outputs": [],
   "source": []
  },
  {
   "cell_type": "code",
   "execution_count": null,
   "metadata": {},
   "outputs": [],
   "source": []
  },
  {
   "cell_type": "code",
   "execution_count": null,
   "metadata": {},
   "outputs": [],
   "source": []
  },
  {
   "cell_type": "code",
   "execution_count": null,
   "metadata": {},
   "outputs": [],
   "source": []
  },
  {
   "cell_type": "code",
   "execution_count": null,
   "metadata": {},
   "outputs": [],
   "source": []
  }
 ],
 "metadata": {
  "kernelspec": {
   "display_name": "Python 3",
   "language": "python",
   "name": "python3"
  },
  "language_info": {
   "codemirror_mode": {
    "name": "ipython",
    "version": 3
   },
   "file_extension": ".py",
   "mimetype": "text/x-python",
   "name": "python",
   "nbconvert_exporter": "python",
   "pygments_lexer": "ipython3",
   "version": "3.7.4"
  }
 },
 "nbformat": 4,
 "nbformat_minor": 2
}
